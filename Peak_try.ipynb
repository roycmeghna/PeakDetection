{
  "nbformat": 4,
  "nbformat_minor": 0,
  "metadata": {
    "colab": {
      "name": "Peak_try.ipynb",
      "provenance": [],
      "authorship_tag": "ABX9TyNwyqh6ecOug8J9JMMXGSCy",
      "include_colab_link": true
    },
    "kernelspec": {
      "name": "python3",
      "display_name": "Python 3"
    },
    "language_info": {
      "name": "python"
    }
  },
  "cells": [
    {
      "cell_type": "markdown",
      "metadata": {
        "id": "view-in-github",
        "colab_type": "text"
      },
      "source": [
        "<a href=\"https://colab.research.google.com/github/roycmeghna/PeakDetection/blob/main/Peak_try.ipynb\" target=\"_parent\"><img src=\"https://colab.research.google.com/assets/colab-badge.svg\" alt=\"Open In Colab\"/></a>"
      ]
    },
    {
      "cell_type": "code",
      "source": [
        ""
      ],
      "metadata": {
        "id": "mDDQXpN5epKy"
      },
      "execution_count": null,
      "outputs": []
    },
    {
      "cell_type": "code",
      "source": [
        ""
      ],
      "metadata": {
        "id": "cvLR9vThepM1"
      },
      "execution_count": null,
      "outputs": []
    },
    {
      "cell_type": "code",
      "source": [
        ""
      ],
      "metadata": {
        "id": "rH-Bln6KepPL"
      },
      "execution_count": null,
      "outputs": []
    },
    {
      "cell_type": "markdown",
      "source": [
        "#Alex"
      ],
      "metadata": {
        "id": "-1Vyfmyrg4by"
      }
    },
    {
      "cell_type": "code",
      "source": [
        "import os\n",
        "\n",
        "%matplotlib inline\n",
        "\n",
        "\n",
        "import datetime\n",
        "import numpy as np\n",
        "import tensorflow as tf\n",
        "import matplotlib.pyplot as plt\n",
        "\n",
        "import keras\n",
        "\n",
        "from keras import Model\n",
        "from keras.models import Sequential\n",
        "from tensorflow.keras.utils import to_categorical\n",
        "from keras.losses import categorical_crossentropy\n",
        "from keras.preprocessing.image import ImageDataGenerator\n",
        "from keras.layers import Dense, Flatten, Conv2D, MaxPooling2D, Dropout,Activation\n",
        "\n",
        "from tensorflow.keras.layers import BatchNormalization\n",
        "\n",
        "np.random.seed(1000)\n",
        "\n",
        "print('TensorFlow version:', tf.__version__)\n",
        "print('Is using GPU?', tf.test.is_gpu_available())"
      ],
      "metadata": {
        "colab": {
          "base_uri": "https://localhost:8080/"
        },
        "id": "xuLPkEnGenwt",
        "outputId": "43a4a8a3-f1fa-4b65-b3dc-259872822db5"
      },
      "execution_count": null,
      "outputs": [
        {
          "output_type": "stream",
          "name": "stdout",
          "text": [
            "TensorFlow version: 2.8.2\n",
            "Is using GPU? False\n"
          ]
        }
      ]
    },
    {
      "cell_type": "code",
      "source": [
        ""
      ],
      "metadata": {
        "id": "V7EP1LQkenyl"
      },
      "execution_count": null,
      "outputs": []
    },
    {
      "cell_type": "code",
      "source": [
        "from google.colab import drive\n",
        "drive.mount('/content/drive')"
      ],
      "metadata": {
        "colab": {
          "base_uri": "https://localhost:8080/"
        },
        "id": "678JCLO3e8RS",
        "outputId": "f995fb03-4950-4334-959d-727d840d99e3"
      },
      "execution_count": null,
      "outputs": [
        {
          "output_type": "stream",
          "name": "stdout",
          "text": [
            "Drive already mounted at /content/drive; to attempt to forcibly remount, call drive.mount(\"/content/drive\", force_remount=True).\n"
          ]
        }
      ]
    },
    {
      "cell_type": "code",
      "source": [
        "\n",
        "!unzip drive/My\\ Drive/Colab\\ Notebooks/DATASETS/sdr_HDMI_sg.zip"
      ],
      "metadata": {
        "colab": {
          "base_uri": "https://localhost:8080/"
        },
        "id": "slHRZnmIfBFg",
        "outputId": "829ffa7a-91a0-4ec3-c1ed-e32bf42ef31b"
      },
      "execution_count": null,
      "outputs": [
        {
          "output_type": "stream",
          "name": "stdout",
          "text": [
            "Archive:  drive/My Drive/Colab Notebooks/DATASETS/sdr_HDMI_sg.zip\n",
            "replace sdr_double_shield_100cm.jpg? [y]es, [n]o, [A]ll, [N]one, [r]ename: N\n"
          ]
        }
      ]
    },
    {
      "cell_type": "code",
      "source": [
        "import os\n",
        "\n",
        "import cv2\n",
        "\n",
        "\n",
        "epochs = 5\n",
        "batch_size = 128\n",
        "nb_classes = 2\n",
        "\n",
        "# dimensions of our images.\n",
        "img_width, img_height = 224,224\n",
        "# Early stopping. Stop training after epochs without improving on validation\n",
        "conf_patience = 6\n"
      ],
      "metadata": {
        "id": "yFXT5jccfEMd"
      },
      "execution_count": null,
      "outputs": []
    },
    {
      "cell_type": "code",
      "source": [
        "from keras.preprocessing.image import ImageDataGenerator\n",
        "\n",
        "train_datagen = ImageDataGenerator(rescale = 1./255,\n",
        "                                   shear_range = 0.2,\n",
        "                                   zoom_range = 0.2,\n",
        "                                   horizontal_flip = True)\n",
        "\n",
        "valid_datagen= ImageDataGenerator(rescale = 1./255)\n",
        "\n",
        "test_datagen = ImageDataGenerator(rescale = 1./255)\n",
        "\n",
        "train_set = train_datagen.flow_from_directory('Train',\n",
        "                                                 target_size = (img_width, img_height),\n",
        "                                                 batch_size = batch_size,\n",
        "                                                 class_mode = 'categorical')\n"
      ],
      "metadata": {
        "colab": {
          "base_uri": "https://localhost:8080/"
        },
        "id": "Kqn1ntZtfi0K",
        "outputId": "0f9ae48c-0a24-4cb8-a913-53a5815441bb"
      },
      "execution_count": null,
      "outputs": [
        {
          "output_type": "stream",
          "name": "stdout",
          "text": [
            "Found 11 images belonging to 2 classes.\n"
          ]
        }
      ]
    },
    {
      "cell_type": "code",
      "source": [
        "model=Sequential()\n",
        "\n",
        "# 1st Convolutional Layer\n",
        "\n",
        "model.add(Conv2D(filters=96, input_shape=(224,224,3), kernel_size=(11,11), strides=(4,4), padding='same'))\n",
        "model.add(Activation('relu'))\n",
        "# Max Pooling\n",
        "model.add(MaxPooling2D(pool_size=(2,2), strides=(2,2), padding='same'))\n",
        "\n",
        "# 2nd Convolutional Layer\n",
        "model.add(Conv2D(filters=256, kernel_size=(11,11), strides=(1,1), padding='same'))\n",
        "model.add(Activation('relu'))\n",
        "# Max Pooling\n",
        "model.add(MaxPooling2D(pool_size=(2,2), strides=(2,2), padding='same'))\n",
        "\n",
        "# 3rd Convolutional Layer\n",
        "model.add(Conv2D(filters=384, kernel_size=(3,3), strides=(1,1), padding='same'))\n",
        "model.add(Activation('relu'))\n",
        "\n",
        "# 4th Convolutional Layer\n",
        "model.add(Conv2D(filters=384, kernel_size=(3,3), strides=(1,1), padding='same'))\n",
        "model.add(Activation('relu'))\n",
        "\n",
        "# 5th Convolutional Layer\n",
        "model.add(Conv2D(filters=256, kernel_size=(3,3), strides=(1,1), padding='same'))\n",
        "model.add(Activation('relu'))\n",
        "# Max Pooling\n",
        "model.add(MaxPooling2D(pool_size=(2,2), strides=(2,2), padding='same'))\n",
        "\n",
        "# Passing it to a Fully Connected layer\n",
        "model.add(Flatten())\n",
        "model.add(Dense(4096))\n",
        "model.add(Activation('tanh'))\n",
        "model.add(Dropout(0.5))\n",
        "model.add(Dense(4096))\n",
        "model.add(Activation('tanh'))\n",
        "model.add(Dropout(0.5))\n",
        "model.add(Dense(2))\n",
        "model.add(Activation('softmax'))\n",
        "# adadeltaÃ§Å¸â€ºadam\n",
        "model.compile(loss='categorical_crossentropy',\n",
        "              optimizer='sgd',\n",
        "              metrics=['accuracy'])"
      ],
      "metadata": {
        "id": "SvDujQgnf4F4"
      },
      "execution_count": null,
      "outputs": []
    },
    {
      "cell_type": "code",
      "source": [
        "model.summary()\n"
      ],
      "metadata": {
        "colab": {
          "base_uri": "https://localhost:8080/"
        },
        "id": "kKSgRO6wf7wA",
        "outputId": "db1b781d-8c91-4c72-e6b3-a1e22ee6c9f5"
      },
      "execution_count": null,
      "outputs": [
        {
          "output_type": "stream",
          "name": "stdout",
          "text": [
            "Model: \"sequential_2\"\n",
            "_________________________________________________________________\n",
            " Layer (type)                Output Shape              Param #   \n",
            "=================================================================\n",
            " conv2d_10 (Conv2D)          (None, 56, 56, 96)        34944     \n",
            "                                                                 \n",
            " activation_16 (Activation)  (None, 56, 56, 96)        0         \n",
            "                                                                 \n",
            " max_pooling2d_6 (MaxPooling  (None, 28, 28, 96)       0         \n",
            " 2D)                                                             \n",
            "                                                                 \n",
            " conv2d_11 (Conv2D)          (None, 28, 28, 256)       2973952   \n",
            "                                                                 \n",
            " activation_17 (Activation)  (None, 28, 28, 256)       0         \n",
            "                                                                 \n",
            " max_pooling2d_7 (MaxPooling  (None, 14, 14, 256)      0         \n",
            " 2D)                                                             \n",
            "                                                                 \n",
            " conv2d_12 (Conv2D)          (None, 14, 14, 384)       885120    \n",
            "                                                                 \n",
            " activation_18 (Activation)  (None, 14, 14, 384)       0         \n",
            "                                                                 \n",
            " conv2d_13 (Conv2D)          (None, 14, 14, 384)       1327488   \n",
            "                                                                 \n",
            " activation_19 (Activation)  (None, 14, 14, 384)       0         \n",
            "                                                                 \n",
            " conv2d_14 (Conv2D)          (None, 14, 14, 256)       884992    \n",
            "                                                                 \n",
            " activation_20 (Activation)  (None, 14, 14, 256)       0         \n",
            "                                                                 \n",
            " max_pooling2d_8 (MaxPooling  (None, 7, 7, 256)        0         \n",
            " 2D)                                                             \n",
            "                                                                 \n",
            " flatten_2 (Flatten)         (None, 12544)             0         \n",
            "                                                                 \n",
            " dense_7 (Dense)             (None, 4096)              51384320  \n",
            "                                                                 \n",
            " activation_21 (Activation)  (None, 4096)              0         \n",
            "                                                                 \n",
            " dropout_4 (Dropout)         (None, 4096)              0         \n",
            "                                                                 \n",
            " dense_8 (Dense)             (None, 4096)              16781312  \n",
            "                                                                 \n",
            " activation_22 (Activation)  (None, 4096)              0         \n",
            "                                                                 \n",
            " dropout_5 (Dropout)         (None, 4096)              0         \n",
            "                                                                 \n",
            " dense_9 (Dense)             (None, 2)                 8194      \n",
            "                                                                 \n",
            " activation_23 (Activation)  (None, 2)                 0         \n",
            "                                                                 \n",
            "=================================================================\n",
            "Total params: 74,280,322\n",
            "Trainable params: 74,280,322\n",
            "Non-trainable params: 0\n",
            "_________________________________________________________________\n"
          ]
        }
      ]
    },
    {
      "cell_type": "code",
      "source": [
        "h=model.fit_generator(\n",
        "    train_set,\n",
        "    epochs=5,\n",
        "\n",
        "    verbose=1\n",
        "    )"
      ],
      "metadata": {
        "colab": {
          "base_uri": "https://localhost:8080/"
        },
        "id": "BZ7tckbSf9Y8",
        "outputId": "0176c6f1-c3cb-4e59-fe27-372e5d16037d"
      },
      "execution_count": null,
      "outputs": [
        {
          "output_type": "stream",
          "name": "stderr",
          "text": [
            "/usr/local/lib/python3.7/dist-packages/ipykernel_launcher.py:5: UserWarning: `Model.fit_generator` is deprecated and will be removed in a future version. Please use `Model.fit`, which supports generators.\n",
            "  \"\"\"\n"
          ]
        },
        {
          "output_type": "stream",
          "name": "stdout",
          "text": [
            "Epoch 1/5\n",
            "1/1 [==============================] - 5s 5s/step - loss: 0.6880 - accuracy: 0.6364\n",
            "Epoch 2/5\n",
            "1/1 [==============================] - 5s 5s/step - loss: 0.6689 - accuracy: 0.6364\n",
            "Epoch 3/5\n",
            "1/1 [==============================] - 5s 5s/step - loss: 0.6520 - accuracy: 0.6364\n",
            "Epoch 4/5\n",
            "1/1 [==============================] - 5s 5s/step - loss: 0.6690 - accuracy: 0.6364\n",
            "Epoch 5/5\n",
            "1/1 [==============================] - 5s 5s/step - loss: 0.6830 - accuracy: 0.6364\n"
          ]
        }
      ]
    },
    {
      "cell_type": "code",
      "source": [
        "results = model.evaluate(train_set,steps=11)\n",
        "print('accuracy:', results[1]*100)"
      ],
      "metadata": {
        "colab": {
          "base_uri": "https://localhost:8080/"
        },
        "id": "kt0rj-q6gOm3",
        "outputId": "54a3cb3e-6375-4015-dd3c-07b2b361dc36"
      },
      "execution_count": null,
      "outputs": [
        {
          "output_type": "stream",
          "name": "stdout",
          "text": [
            " 1/11 [=>............................] - ETA: 15s - loss: 0.6630 - accuracy: 0.6364WARNING:tensorflow:Your input ran out of data; interrupting training. Make sure that your dataset or generator can generate at least `steps_per_epoch * epochs` batches (in this case, 11 batches). You may need to use the repeat() function when building your dataset.\n",
            "11/11 [==============================] - 2s 2ms/step - loss: 0.6630 - accuracy: 0.6364\n",
            "accuracy: 63.63636255264282\n"
          ]
        }
      ]
    },
    {
      "cell_type": "code",
      "source": [
        ""
      ],
      "metadata": {
        "id": "2Ca5sjvsgiXe"
      },
      "execution_count": null,
      "outputs": []
    },
    {
      "cell_type": "markdown",
      "source": [
        "#arduino paper"
      ],
      "metadata": {
        "id": "QOxbh82ug6KG"
      }
    },
    {
      "cell_type": "code",
      "source": [
        "import tensorflow as tf\n",
        "import keras\n",
        "\n",
        "from keras import Model\n",
        "from keras.models import Sequential\n",
        "\n",
        "from keras.losses import categorical_crossentropy\n",
        "from keras.layers import Dense, Flatten, Conv2D, MaxPooling2D, Dropout,Activation\n",
        "from keras.layers import Concatenate, Input, concatenate ,Add,add\n",
        "\n"
      ],
      "metadata": {
        "id": "v2AcXvVihCIg"
      },
      "execution_count": null,
      "outputs": []
    },
    {
      "cell_type": "code",
      "source": [
        "model = Sequential()\n",
        "\n",
        "model.add(Conv2D(filters=64, input_shape=(224,224,3), kernel_size=(3,3)))\n",
        "\n",
        "model.add(Dropout(0.4))\n",
        "     \n",
        "#2nd covolutional layer\n",
        "model.add(Conv2D(filters=32, kernel_size=(3,3), activation='relu'))\n",
        "model.add(Dropout(0.4))\n",
        "   \n",
        "# 3rd Convolutional Layer\n",
        "model.add(Conv2D(filters=16, kernel_size=(3,3), activation='relu'))\n",
        "model.add(Dropout(0.4))\n",
        "\n",
        "#Flatten\n",
        "model.add(Flatten())\n",
        "\n",
        "#Dense Layer1\n",
        "model.add(Dense(64, activation='relu'))\n",
        "model.add(Dropout(0.4))\n",
        "\n",
        "#Dense Layer2\n",
        "model.add(Dense(32, activation='relu'))\n",
        "model.add(Dropout(0.4))\n",
        "\n",
        "#Dense Layer3\n",
        "model.add(Dense(16, activation='relu'))\n",
        "model.add(Dropout(0.4))\n",
        "\n",
        "model.add(Dense(2, activation='softmax'))"
      ],
      "metadata": {
        "id": "FxN85g0Og7Nj"
      },
      "execution_count": null,
      "outputs": []
    },
    {
      "cell_type": "code",
      "source": [
        "model.compile(loss='categorical_crossentropy',\n",
        "              optimizer='sgd',\n",
        "              metrics=['accuracy'])"
      ],
      "metadata": {
        "id": "I3DhvNNPjFPT"
      },
      "execution_count": null,
      "outputs": []
    },
    {
      "cell_type": "code",
      "source": [
        "model.summary()\n"
      ],
      "metadata": {
        "colab": {
          "base_uri": "https://localhost:8080/"
        },
        "id": "eEOL3ABBjH9P",
        "outputId": "8e035001-fc3b-4b20-e569-b352fe5deb01"
      },
      "execution_count": null,
      "outputs": [
        {
          "output_type": "stream",
          "name": "stdout",
          "text": [
            "Model: \"sequential_6\"\n",
            "_________________________________________________________________\n",
            " Layer (type)                Output Shape              Param #   \n",
            "=================================================================\n",
            " conv2d_24 (Conv2D)          (None, 222, 222, 64)      1792      \n",
            "                                                                 \n",
            " dropout_24 (Dropout)        (None, 222, 222, 64)      0         \n",
            "                                                                 \n",
            " conv2d_25 (Conv2D)          (None, 220, 220, 32)      18464     \n",
            "                                                                 \n",
            " dropout_25 (Dropout)        (None, 220, 220, 32)      0         \n",
            "                                                                 \n",
            " conv2d_26 (Conv2D)          (None, 218, 218, 16)      4624      \n",
            "                                                                 \n",
            " dropout_26 (Dropout)        (None, 218, 218, 16)      0         \n",
            "                                                                 \n",
            " flatten_6 (Flatten)         (None, 760384)            0         \n",
            "                                                                 \n",
            " dense_22 (Dense)            (None, 64)                48664640  \n",
            "                                                                 \n",
            " dropout_27 (Dropout)        (None, 64)                0         \n",
            "                                                                 \n",
            " dense_23 (Dense)            (None, 32)                2080      \n",
            "                                                                 \n",
            " dropout_28 (Dropout)        (None, 32)                0         \n",
            "                                                                 \n",
            " dense_24 (Dense)            (None, 16)                528       \n",
            "                                                                 \n",
            " dropout_29 (Dropout)        (None, 16)                0         \n",
            "                                                                 \n",
            " dense_25 (Dense)            (None, 2)                 34        \n",
            "                                                                 \n",
            "=================================================================\n",
            "Total params: 48,692,162\n",
            "Trainable params: 48,692,162\n",
            "Non-trainable params: 0\n",
            "_________________________________________________________________\n"
          ]
        }
      ]
    },
    {
      "cell_type": "code",
      "source": [
        "h=model.fit_generator(\n",
        "    train_set,\n",
        "    epochs=10,\n",
        "\n",
        "    verbose=1\n",
        "    )"
      ],
      "metadata": {
        "colab": {
          "base_uri": "https://localhost:8080/"
        },
        "id": "OH-30AslhC16",
        "outputId": "93ed32eb-14ea-4e14-8ea9-3fa43aea7999"
      },
      "execution_count": null,
      "outputs": [
        {
          "output_type": "stream",
          "name": "stderr",
          "text": [
            "/usr/local/lib/python3.7/dist-packages/ipykernel_launcher.py:5: UserWarning: `Model.fit_generator` is deprecated and will be removed in a future version. Please use `Model.fit`, which supports generators.\n",
            "  \"\"\"\n"
          ]
        },
        {
          "output_type": "stream",
          "name": "stdout",
          "text": [
            "Epoch 1/10\n",
            "1/1 [==============================] - 4s 4s/step - loss: 0.5150 - accuracy: 0.8182\n",
            "Epoch 2/10\n",
            "1/1 [==============================] - 4s 4s/step - loss: 0.9076 - accuracy: 0.4545\n",
            "Epoch 3/10\n",
            "1/1 [==============================] - 4s 4s/step - loss: 0.7826 - accuracy: 0.4545\n",
            "Epoch 4/10\n",
            "1/1 [==============================] - 4s 4s/step - loss: 0.6823 - accuracy: 0.5455\n",
            "Epoch 5/10\n",
            "1/1 [==============================] - 4s 4s/step - loss: 0.7648 - accuracy: 0.3636\n",
            "Epoch 6/10\n",
            "1/1 [==============================] - 4s 4s/step - loss: 0.6902 - accuracy: 0.5455\n",
            "Epoch 7/10\n",
            "1/1 [==============================] - 5s 5s/step - loss: 0.7608 - accuracy: 0.4545\n",
            "Epoch 8/10\n",
            "1/1 [==============================] - 4s 4s/step - loss: 0.6372 - accuracy: 0.4545\n",
            "Epoch 9/10\n",
            "1/1 [==============================] - 4s 4s/step - loss: 0.6720 - accuracy: 0.6364\n",
            "Epoch 10/10\n",
            "1/1 [==============================] - 4s 4s/step - loss: 0.6528 - accuracy: 0.5455\n"
          ]
        }
      ]
    },
    {
      "cell_type": "code",
      "source": [
        "results = model.evaluate(train_set,steps=11)\n",
        "print('accuracy:', results[1]*100)"
      ],
      "metadata": {
        "colab": {
          "base_uri": "https://localhost:8080/"
        },
        "id": "BqgxmA6ihHIe",
        "outputId": "26bfef44-5ff4-4528-8612-abb248a0f40f"
      },
      "execution_count": null,
      "outputs": [
        {
          "output_type": "stream",
          "name": "stdout",
          "text": [
            " 1/11 [=>............................] - ETA: 12s - loss: 0.6830 - accuracy: 0.6364WARNING:tensorflow:Your input ran out of data; interrupting training. Make sure that your dataset or generator can generate at least `steps_per_epoch * epochs` batches (in this case, 11 batches). You may need to use the repeat() function when building your dataset.\n",
            "11/11 [==============================] - 1s 3ms/step - loss: 0.6830 - accuracy: 0.6364\n",
            "accuracy: 63.63636255264282\n"
          ]
        }
      ]
    },
    {
      "cell_type": "code",
      "source": [
        ""
      ],
      "metadata": {
        "id": "6ky6dPhTjXGF"
      },
      "execution_count": null,
      "outputs": []
    }
  ]
}